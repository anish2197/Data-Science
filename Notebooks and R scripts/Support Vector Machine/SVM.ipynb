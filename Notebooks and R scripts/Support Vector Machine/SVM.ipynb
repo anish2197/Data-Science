{
 "cells": [
  {
   "cell_type": "code",
   "execution_count": 38,
   "metadata": {},
   "outputs": [],
   "source": [
    "#Loading dependencies:\n",
    "from sklearn import datasets\n",
    "from sklearn import svm\n",
    "import numpy as np\n",
    "import pandas as pd\n",
    "import matplotlib.pyplot as plt\n",
    "import seaborn as sns; sns.set(font_scale = 1.2)"
   ]
  },
  {
   "cell_type": "code",
   "execution_count": 39,
   "metadata": {},
   "outputs": [
    {
     "data": {
      "text/html": [
       "<div>\n",
       "<style scoped>\n",
       "    .dataframe tbody tr th:only-of-type {\n",
       "        vertical-align: middle;\n",
       "    }\n",
       "\n",
       "    .dataframe tbody tr th {\n",
       "        vertical-align: top;\n",
       "    }\n",
       "\n",
       "    .dataframe thead th {\n",
       "        text-align: right;\n",
       "    }\n",
       "</style>\n",
       "<table border=\"1\" class=\"dataframe\">\n",
       "  <thead>\n",
       "    <tr style=\"text-align: right;\">\n",
       "      <th></th>\n",
       "      <th>Type</th>\n",
       "      <th>Flour</th>\n",
       "      <th>Milk</th>\n",
       "      <th>Sugar</th>\n",
       "      <th>Butter</th>\n",
       "      <th>Egg</th>\n",
       "      <th>Baking Powder</th>\n",
       "      <th>Vanilla</th>\n",
       "      <th>Salt</th>\n",
       "    </tr>\n",
       "  </thead>\n",
       "  <tbody>\n",
       "    <tr>\n",
       "      <th>0</th>\n",
       "      <td>Muffin</td>\n",
       "      <td>55</td>\n",
       "      <td>28</td>\n",
       "      <td>3</td>\n",
       "      <td>7</td>\n",
       "      <td>5</td>\n",
       "      <td>2</td>\n",
       "      <td>0</td>\n",
       "      <td>0</td>\n",
       "    </tr>\n",
       "    <tr>\n",
       "      <th>1</th>\n",
       "      <td>Muffin</td>\n",
       "      <td>47</td>\n",
       "      <td>24</td>\n",
       "      <td>12</td>\n",
       "      <td>6</td>\n",
       "      <td>9</td>\n",
       "      <td>1</td>\n",
       "      <td>0</td>\n",
       "      <td>0</td>\n",
       "    </tr>\n",
       "    <tr>\n",
       "      <th>2</th>\n",
       "      <td>Muffin</td>\n",
       "      <td>47</td>\n",
       "      <td>23</td>\n",
       "      <td>18</td>\n",
       "      <td>6</td>\n",
       "      <td>4</td>\n",
       "      <td>1</td>\n",
       "      <td>0</td>\n",
       "      <td>0</td>\n",
       "    </tr>\n",
       "    <tr>\n",
       "      <th>3</th>\n",
       "      <td>Muffin</td>\n",
       "      <td>45</td>\n",
       "      <td>11</td>\n",
       "      <td>17</td>\n",
       "      <td>17</td>\n",
       "      <td>8</td>\n",
       "      <td>1</td>\n",
       "      <td>0</td>\n",
       "      <td>0</td>\n",
       "    </tr>\n",
       "    <tr>\n",
       "      <th>4</th>\n",
       "      <td>Muffin</td>\n",
       "      <td>50</td>\n",
       "      <td>25</td>\n",
       "      <td>12</td>\n",
       "      <td>6</td>\n",
       "      <td>5</td>\n",
       "      <td>2</td>\n",
       "      <td>1</td>\n",
       "      <td>0</td>\n",
       "    </tr>\n",
       "  </tbody>\n",
       "</table>\n",
       "</div>"
      ],
      "text/plain": [
       "     Type  Flour  Milk  Sugar  Butter  Egg  Baking Powder  Vanilla  Salt\n",
       "0  Muffin     55    28      3       7    5              2        0     0\n",
       "1  Muffin     47    24     12       6    9              1        0     0\n",
       "2  Muffin     47    23     18       6    4              1        0     0\n",
       "3  Muffin     45    11     17      17    8              1        0     0\n",
       "4  Muffin     50    25     12       6    5              2        1     0"
      ]
     },
     "execution_count": 39,
     "metadata": {},
     "output_type": "execute_result"
    }
   ],
   "source": [
    "#Loading data:\n",
    "data = pd.read_csv(\"baking_recipies.csv\")\n",
    "3data.head()"
   ]
  },
  {
   "cell_type": "code",
   "execution_count": 51,
   "metadata": {},
   "outputs": [
    {
     "data": {
      "image/png": "[encoded data removed]",
      "text/plain": [
       "<Figure size 360x360 with 1 Axes>"
      ]
     },
     "metadata": {},
     "output_type": "display_data"
    }
   ],
   "source": [
    "#Select features from the data:\n",
    "sns.lmplot('Flour','Sugar', data = data,fit_reg = False);"
   ]
  },
  {
   "cell_type": "code",
   "execution_count": 56,
   "metadata": {},
   "outputs": [
    {
     "name": "stderr",
     "output_type": "stream",
     "text": [
      "E:\\Anaconda\\lib\\site-packages\\ipykernel_launcher.py:1: FutureWarning: Method .as_matrix will be removed in a future version. Use .values instead.\n",
      "  \"\"\"Entry point for launching an IPython kernel.\n"
     ]
    }
   ],
   "source": [
    "#Slice the data and create labels array:\n",
    "sugar_flour = data[[\"Sugar\",\"Flour\"]].as_matrix()\n",
    "type_labels = np.where(data[\"Type\"]==\"Muffin\",0,1)"
   ]
  },
  {
   "cell_type": "code",
   "execution_count": 57,
   "metadata": {},
   "outputs": [
    {
     "data": {
      "text/plain": [
       "SVC(C=1.0, cache_size=200, class_weight=None, coef0=0.0,\n",
       "  decision_function_shape='ovr', degree=3, gamma='auto', kernel='linear',\n",
       "  max_iter=-1, probability=False, random_state=None, shrinking=True,\n",
       "  tol=0.001, verbose=False)"
      ]
     },
     "execution_count": 57,
     "metadata": {},
     "output_type": "execute_result"
    }
   ],
   "source": [
    "#Fit the model:\n",
    "model = svm.SVC(kernel = \"linear\")\n",
    "model.fit(sugar_flour,type_labels)"
   ]
  },
  {
   "cell_type": "code",
   "execution_count": 59,
   "metadata": {},
   "outputs": [],
   "source": [
    "#Visualization:\n",
    "\n",
    "#Create separating hyperplane\n",
    "w = model.coef_[0]\n",
    "a = -w[0] / w[1]\n",
    "xx = np.linspace(5,30)\n",
    "yy = a * xx - (model.intercept_[0]) / w[1]\n",
    "\n",
    "#Plot parallel hyperplanes\n",
    "b = model.support_vectors_[0]\n",
    "yy_down = a * xx + (b[1] - a*b[0])\n",
    "b = model.support_vectors_[-1]\n",
    "yy_up = a * xx + (b[1] - a*b[0])"
   ]
  },
  {
   "cell_type": "code",
   "execution_count": 80,
   "metadata": {},
   "outputs": [
    {
     "data": {
      "text/plain": [
       "[<matplotlib.lines.Line2D at 0x1e114552b70>]"
      ]
     },
     "execution_count": 80,
     "metadata": {},
     "output_type": "execute_result"
    },
    {
     "data": {
      "image/png": "[encoded data removed]",
      "text/plain": [
       "<Figure size 450.575x360 with 1 Axes>"
      ]
     },
     "metadata": {},
     "output_type": "display_data"
    }
   ],
   "source": [
    "#Margins and support vectors:\n",
    "sns.lmplot(\"Sugar\", \"Flour\", data = recipies, hue = \"Type\", palette = \"Set1\", fit_reg = False, scatter_kws = {\"s\":70})\n",
    "plt.plot(xx, yy, linewidth = 2, color = \"black\")     #hyperplane\n",
    "plt.plot(xx, yy_down, \"k--\")  #parallel plane 1\n",
    "plt.plot(xx, yy_up, \"k--\")    #parallel plane 2"
   ]
  },
  {
   "cell_type": "code",
   "execution_count": null,
   "metadata": {},
   "outputs": [],
   "source": []
  }
 ],
 "metadata": {
  "kernelspec": {
   "display_name": "Python 3",
   "language": "python",
   "name": "python3"
  },
  "language_info": {
   "codemirror_mode": {
    "name": "ipython",
    "version": 3
   },
   "file_extension": ".py",
   "mimetype": "text/x-python",
   "name": "python",
   "nbconvert_exporter": "python",
   "pygments_lexer": "ipython3",
   "version": "3.6.5"
  }
 },
 "nbformat": 4,
 "nbformat_minor": 2
}
